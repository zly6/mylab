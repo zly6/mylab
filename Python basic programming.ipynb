{
 "cells": [
  {
   "cell_type": "markdown",
   "metadata": {},
   "source": [
    "# Python基本语法\n",
    "- 列表list（用[]）与元组tuple（用()）：区别在于列表可修改，而元组不可修改\n",
    "- 字典dict：映射数据类型（有键值对组成），使用花括号表示\n",
    "- 集合：无重复元素,，set创建，交、并、差运算：.intersection()/union()/difference()\n",
    "- if语句：if, elif, else\n",
    "- enumerate([])：为列表中的元素编号，从0开始\n"
   ]
  },
  {
   "cell_type": "code",
   "execution_count": 5,
   "metadata": {},
   "outputs": [
    {
     "name": "stdout",
     "output_type": "stream",
     "text": [
      "hello\n"
     ]
    }
   ],
   "source": [
    "print('hello')"
   ]
  },
  {
   "cell_type": "markdown",
   "metadata": {},
   "source": [
    "## 直接运行.py文件\n",
    "在Mac和Linux上是可以的，方法是在.py文件的第一行加上一个特殊的注释：\n",
    "\n",
    "#!/usr/bin/env python3\n",
    "\n",
    "然后 授予用户权限 chmod a+x name.py\n",
    "\n",
    "./name.py  即可"
   ]
  },
  {
   "cell_type": "code",
   "execution_count": 3,
   "metadata": {},
   "outputs": [
    {
     "data": {
      "text/plain": [
       "[0, 8, 64, 216]"
      ]
     },
     "execution_count": 3,
     "metadata": {},
     "output_type": "execute_result"
    }
   ],
   "source": [
    "# 列表解析\n",
    "cube = [x ** 3 for x in range(8) if not x % 2]\n",
    "cube"
   ]
  },
  {
   "cell_type": "code",
   "execution_count": null,
   "metadata": {
    "collapsed": true
   },
   "outputs": [],
   "source": []
  },
  {
   "cell_type": "markdown",
   "metadata": {},
   "source": [
    "大大小小的坑：\n",
    "- 在做字数统计的实践环节时，对txt文件处理时，总是出现“UnicodeDecodeError: 'utf8' codec can't decode byte 0xba in position 0: invalid start byte”错误，这是由于txt的编码方式不是utf-8，解决方法是另存为，选择编码方式 uft-8"
   ]
  },
  {
   "cell_type": "markdown",
   "metadata": {
    "collapsed": true
   },
   "source": [
    "# 版本更新 模块获取\n",
    "Anaconda的包中并非所有的模块都具备，特别是从别处如github [nbviewer](https://nbviewer.jupyter.org/)中下载的程序，如果报 模块找不到， 这是可以使用pip(python的包管理工具)获取，在CMD中输入  C:\\ProgramData\\Anaconda2\\python.exe -m pip install $module"
   ]
  },
  {
   "cell_type": "code",
   "execution_count": 1,
   "metadata": {},
   "outputs": [
    {
     "data": {
      "text/plain": [
       "['',\n",
       " 'C:\\\\ProgramData\\\\Anaconda2\\\\python27.zip',\n",
       " 'C:\\\\ProgramData\\\\Anaconda2\\\\DLLs',\n",
       " 'C:\\\\ProgramData\\\\Anaconda2\\\\lib',\n",
       " 'C:\\\\ProgramData\\\\Anaconda2\\\\lib\\\\plat-win',\n",
       " 'C:\\\\ProgramData\\\\Anaconda2\\\\lib\\\\lib-tk',\n",
       " 'C:\\\\ProgramData\\\\Anaconda2',\n",
       " 'C:\\\\ProgramData\\\\Anaconda2\\\\lib\\\\site-packages',\n",
       " 'C:\\\\ProgramData\\\\Anaconda2\\\\lib\\\\site-packages\\\\Babel-2.5.0-py2.7.egg',\n",
       " 'C:\\\\ProgramData\\\\Anaconda2\\\\lib\\\\site-packages\\\\win32',\n",
       " 'C:\\\\ProgramData\\\\Anaconda2\\\\lib\\\\site-packages\\\\win32\\\\lib',\n",
       " 'C:\\\\ProgramData\\\\Anaconda2\\\\lib\\\\site-packages\\\\Pythonwin',\n",
       " 'C:\\\\ProgramData\\\\Anaconda2\\\\lib\\\\site-packages\\\\IPython\\\\extensions',\n",
       " 'C:\\\\Users\\\\Administrator\\\\.ipython']"
      ]
     },
     "execution_count": 1,
     "metadata": {},
     "output_type": "execute_result"
    }
   ],
   "source": [
    "import sys\n",
    "sys.path"
   ]
  },
  {
   "cell_type": "markdown",
   "metadata": {
    "collapsed": true
   },
   "source": [
    "# 计算机编码问题\n",
    "- ASCII编码，一个字节，只包含大小写英文字母和标点符号等\n",
    "- Unicode编码，两个字节，统一各国编码（由于语言不通，各个指定不同的编码标准，中国为GB2312），ASCII到Unicode多了一个字节，该字节为零。\n",
    "- 可变长的Unicode编码 UTF-8, 为了适应英文为主的运行环境，提高编码效率与灵活性，ASCII编码中的字符编码不变，中文通常为三个字节\n",
    "\n",
    "因此，在计算机系统中，存储和传输时，数据编码为UTF-8,计算（内存中）时编码为Unicode，文件编码需要不断转变。"
   ]
  },
  {
   "cell_type": "code",
   "execution_count": 5,
   "metadata": {},
   "outputs": [
    {
     "data": {
      "text/plain": [
       "65"
      ]
     },
     "execution_count": 5,
     "metadata": {},
     "output_type": "execute_result"
    }
   ],
   "source": [
    "# 字符编码转换\n",
    "ord('A')"
   ]
  },
  {
   "cell_type": "code",
   "execution_count": 6,
   "metadata": {},
   "outputs": [
    {
     "data": {
      "text/plain": [
       "20013"
      ]
     },
     "execution_count": 6,
     "metadata": {},
     "output_type": "execute_result"
    }
   ],
   "source": [
    "ord('中')"
   ]
  },
  {
   "cell_type": "code",
   "execution_count": 9,
   "metadata": {},
   "outputs": [
    {
     "data": {
      "text/plain": [
       "'A'"
      ]
     },
     "execution_count": 9,
     "metadata": {},
     "output_type": "execute_result"
    }
   ],
   "source": [
    "chr(65)"
   ]
  },
  {
   "cell_type": "code",
   "execution_count": 10,
   "metadata": {},
   "outputs": [
    {
     "data": {
      "text/plain": [
       "'中'"
      ]
     },
     "execution_count": 10,
     "metadata": {},
     "output_type": "execute_result"
    }
   ],
   "source": [
    "chr(20013)"
   ]
  },
  {
   "cell_type": "code",
   "execution_count": 12,
   "metadata": {},
   "outputs": [
    {
     "data": {
      "text/plain": [
       "b'\\xe4\\xb8\\xad\\xe6\\x96\\x87'"
      ]
     },
     "execution_count": 12,
     "metadata": {},
     "output_type": "execute_result"
    }
   ],
   "source": [
    "'中文'.encode('utf-8')"
   ]
  },
  {
   "cell_type": "code",
   "execution_count": 14,
   "metadata": {},
   "outputs": [
    {
     "data": {
      "text/plain": [
       "b'ABC'"
      ]
     },
     "execution_count": 14,
     "metadata": {},
     "output_type": "execute_result"
    }
   ],
   "source": [
    "'ABC'.encode('ascii')"
   ]
  },
  {
   "cell_type": "code",
   "execution_count": 15,
   "metadata": {},
   "outputs": [
    {
     "data": {
      "text/plain": [
       "'ABC'"
      ]
     },
     "execution_count": 15,
     "metadata": {},
     "output_type": "execute_result"
    }
   ],
   "source": [
    "b'ABC'.decode('ascii')"
   ]
  },
  {
   "cell_type": "code",
   "execution_count": 16,
   "metadata": {},
   "outputs": [
    {
     "data": {
      "text/plain": [
       "3"
      ]
     },
     "execution_count": 16,
     "metadata": {},
     "output_type": "execute_result"
    }
   ],
   "source": [
    "len('ABC')"
   ]
  },
  {
   "cell_type": "code",
   "execution_count": 19,
   "metadata": {},
   "outputs": [
    {
     "data": {
      "text/plain": [
       "6"
      ]
     },
     "execution_count": 19,
     "metadata": {},
     "output_type": "execute_result"
    }
   ],
   "source": [
    "len('中文'.encode('utf-8'))"
   ]
  },
  {
   "cell_type": "markdown",
   "metadata": {},
   "source": [
    "当Python源代码中包含中文的时候，在保存源代码时，就需要务必指定保存为UTF-8编码,即在文件开头增加\n",
    "\n",
    "#!/usr/bin/env python3  % 告诉Linux/OS X系统，这是一个Python可执行程序，Windows系统会忽略这个注释；\n",
    "\n",
    "\\# -*- coding: utf-8 -*-   %告诉Python解释器，按照UTF-8编码读取源代码，否则，你在源代码中写的中文输出可能会有乱码。\n"
   ]
  },
  {
   "cell_type": "code",
   "execution_count": 26,
   "metadata": {},
   "outputs": [
    {
     "name": "stdout",
     "output_type": "stream",
     "text": [
      "Hi, Tom, you have $1000\n",
      "3.14\n",
      " 3-01\n"
     ]
    }
   ],
   "source": [
    "#格式化字符\n",
    "# 占位符\t替换内容\n",
    "# %d\t整数\n",
    "# %f\t浮点数\n",
    "# %s\t字符串\n",
    "# %x\t十六进制整数\n",
    "print('Hi, %s, you have $%d' % ('Tom', 1000));print('%.2f' % 3.1415926);print('%2d-%02d' % (3, 1))"
   ]
  },
  {
   "cell_type": "code",
   "execution_count": 27,
   "metadata": {},
   "outputs": [
    {
     "data": {
      "text/plain": [
       "'Hello, 小明, 成绩提升了 17.1%'"
      ]
     },
     "execution_count": 27,
     "metadata": {},
     "output_type": "execute_result"
    }
   ],
   "source": [
    "# 等效于\n",
    "'Hello, {0}, 成绩提升了 {1:.1f}%'.format('小明', 17.125)"
   ]
  },
  {
   "cell_type": "markdown",
   "metadata": {},
   "source": [
    "# list\n",
    "list是一种有序的集合，可以随时添加和删除其中的元素。"
   ]
  },
  {
   "cell_type": "code",
   "execution_count": 32,
   "metadata": {},
   "outputs": [
    {
     "data": {
      "text/plain": [
       "['Michael', 'Bob', 'Tracy']"
      ]
     },
     "execution_count": 32,
     "metadata": {},
     "output_type": "execute_result"
    }
   ],
   "source": [
    "classmates = ['Michael', 'Bob', 'Tracy'];\n",
    "classmates"
   ]
  },
  {
   "cell_type": "code",
   "execution_count": 33,
   "metadata": {},
   "outputs": [
    {
     "data": {
      "text/plain": [
       "'Tracy'"
      ]
     },
     "execution_count": 33,
     "metadata": {},
     "output_type": "execute_result"
    }
   ],
   "source": [
    "# 负数索引，从后面开始数\n",
    "classmates[-1]"
   ]
  },
  {
   "cell_type": "code",
   "execution_count": 34,
   "metadata": {},
   "outputs": [
    {
     "data": {
      "text/plain": [
       "['Michael', 'Jack', 'Bob', 'Tracy', 'Tom']"
      ]
     },
     "execution_count": 34,
     "metadata": {},
     "output_type": "execute_result"
    }
   ],
   "source": [
    "#后面追加\n",
    "classmates.append('Tom');\n",
    "# 中间插入\n",
    "classmates.insert(1,'Jack');\n",
    "classmates"
   ]
  },
  {
   "cell_type": "code",
   "execution_count": 36,
   "metadata": {},
   "outputs": [
    {
     "data": {
      "text/plain": [
       "['Michael', 'Jack', 'Bob', 'Tracy']"
      ]
     },
     "execution_count": 36,
     "metadata": {},
     "output_type": "execute_result"
    }
   ],
   "source": [
    "# 删除\n",
    "classmates.pop();classmates"
   ]
  },
  {
   "cell_type": "code",
   "execution_count": 37,
   "metadata": {},
   "outputs": [
    {
     "data": {
      "text/plain": [
       "['Michael', 'Bob', 'Tracy']"
      ]
     },
     "execution_count": 37,
     "metadata": {},
     "output_type": "execute_result"
    }
   ],
   "source": [
    "classmates.pop(1);classmates"
   ]
  },
  {
   "cell_type": "markdown",
   "metadata": {},
   "source": [
    "# tuple\n",
    "只能查（与List类似），不能改。因为tuple不可变，所以代码更安全。如果可能，能用tuple代替list就尽量用tuple。"
   ]
  },
  {
   "cell_type": "code",
   "execution_count": 38,
   "metadata": {},
   "outputs": [
    {
     "data": {
      "text/plain": [
       "('Michael', 'Bob', 'Tracy')"
      ]
     },
     "execution_count": 38,
     "metadata": {},
     "output_type": "execute_result"
    }
   ],
   "source": [
    "classmates = ('Michael', 'Bob', 'Tracy'); classmates"
   ]
  },
  {
   "cell_type": "markdown",
   "metadata": {},
   "source": [
    "# dict\n",
    "存放键值对，"
   ]
  },
  {
   "cell_type": "code",
   "execution_count": 40,
   "metadata": {},
   "outputs": [
    {
     "data": {
      "text/plain": [
       "95"
      ]
     },
     "execution_count": 40,
     "metadata": {},
     "output_type": "execute_result"
    }
   ],
   "source": [
    "d = {'Michael': 95, 'Bob': 75, 'Tracy': 85}\n",
    "d['Michael']"
   ]
  },
  {
   "cell_type": "code",
   "execution_count": null,
   "metadata": {},
   "outputs": [],
   "source": []
  }
 ],
 "metadata": {
  "kernelspec": {
   "display_name": "Python 3",
   "language": "python",
   "name": "python3"
  },
  "language_info": {
   "codemirror_mode": {
    "name": "ipython",
    "version": 3
   },
   "file_extension": ".py",
   "mimetype": "text/x-python",
   "name": "python",
   "nbconvert_exporter": "python",
   "pygments_lexer": "ipython3",
   "version": "3.6.5"
  }
 },
 "nbformat": 4,
 "nbformat_minor": 2
}
