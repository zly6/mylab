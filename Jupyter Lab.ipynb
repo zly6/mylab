{
 "cells": [
  {
   "cell_type": "markdown",
   "metadata": {},
   "source": [
    "# 集成开发环境（IDE，Integrated Development Environment ）\n",
    "\n",
    "是用于提供程序开发环境的应用程序，一般包括代码编辑器、编译器、调试器和图形用户界面等工具。Jupiter-notebook就是典型的IDE，基于Python提供用于展示、调试的web页面。\n",
    "下面参照[官方手册的例子](https://jupyterlab.readthedocs.io/en/latest/developer/extension_tutorial.html#set-up-a-development-environment)走一遍，\n",
    "\n",
    "- 下载anaconda3 5.2。 电脑（系统Win10）之前便安装了Anaconda3, 5.3.0版本，结果在生成环境时报错：无法定位程序输入点 。。。动态链接库，类似的问题可见[该页面](https://blog.csdn.net/Msjiangmei/article/details/100925060)。重装 Anaconda3 5.2.0版本，\n",
    "- 打开anaconda prompt\n",
    "- conda update conda：因为例子中的代码都是按照4.6以上版本写的，（4.6版本18年的，而jupyterlab是19年年初推出的。）\n",
    "- conda create -n jupyterlab-ext --override-channels --strict-channel-priority（严格按照channel优先级搜索包） -c conda-forge -c anaconda（列出两个channel，优先级前高后低） jupyterlab cookiecutter nodejs git \n"
   ]
  },
  {
   "cell_type": "markdown",
   "metadata": {},
   "source": [
    "# 问题\n",
    "- conda生成的环境如何迁移？打包？\n",
    "- 目标是引擎可以选择，工具栏模块可以自定义。分别怎样实现？\n",
    "- 如何离线安装？"
   ]
  },
  {
   "cell_type": "markdown",
   "metadata": {},
   "source": [
    "# 细节\n",
    "- 默认是国外的镜像，往往下载速度很慢，而且连接时断时续，因此，有必要[添加国内镜像源](https://www.jianshu.com/p/edaa744ea47d)\n",
    "- 查看conda创建的环境 conda env list\n",
    "- 由于JupyterLab是由JS写的，所以，在此基础上做的extension可以在npmjs.com搜索 jupyterlab extension，获取相关的已开发软件包。"
   ]
  },
  {
   "cell_type": "markdown",
   "metadata": {},
   "source": [
    "# 单独构建 JupyterLab服务器\n",
    "官方提供了相关的[软件包](https://github.com/jupyterhub/jupyterhub)。可以构建属于个人或团队的调试、记录环境。"
   ]
  },
  {
   "cell_type": "code",
   "execution_count": null,
   "metadata": {},
   "outputs": [],
   "source": [
    "## 常用的官方镜像\n",
    "conda config --add channels bioconda\n",
    "conda config --add channels conda-forge"
   ]
  },
  {
   "cell_type": "code",
   "execution_count": null,
   "metadata": {},
   "outputs": [],
   "source": [
    "## 清华镜像\n",
    "conda config --add channels https://mirrors.tuna.tsinghua.edu.cn/anaconda/pkgs/free/\n",
    "conda config --add channels https://mirrors.tuna.tsinghua.edu.cn/anaconda/pkgs/main/\n",
    "conda config --add channels https://mirrors.tuna.tsinghua.edu.cn/anaconda/cloud/conda-forge/\n",
    "conda config --add channels https://mirrors.tuna.tsinghua.edu.cn/anaconda/cloud/bioconda/"
   ]
  },
  {
   "cell_type": "code",
   "execution_count": null,
   "metadata": {},
   "outputs": [],
   "source": [
    "# github同步\n",
    "git remote add orgin https://github.com/zly6/jupyter-ext.git\n",
    "git commit -m \"Second commit\"\n",
    "git push -u origin master"
   ]
  }
 ],
 "metadata": {
  "kernelspec": {
   "display_name": "Python 3",
   "language": "python",
   "name": "python3"
  },
  "language_info": {
   "codemirror_mode": {
    "name": "ipython",
    "version": 3
   },
   "file_extension": ".py",
   "mimetype": "text/x-python",
   "name": "python",
   "nbconvert_exporter": "python",
   "pygments_lexer": "ipython3",
   "version": "3.6.5"
  }
 },
 "nbformat": 4,
 "nbformat_minor": 2
}
