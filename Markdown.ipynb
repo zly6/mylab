{
 "cells": [
  {
   "cell_type": "markdown",
   "metadata": {},
   "source": [
    "# Markdown练习\n",
    "**Bold**\n",
    "\n",
    "*Ilatic*\n",
    "\n",
    "**This is a _net ilatic_**\n",
    "\n",
    "~~This is Strikethrough~~\n",
    "\n",
    "***All are bold and ilatic***"
   ]
  },
  {
   "cell_type": "markdown",
   "metadata": {},
   "source": [
    "quote a poet of `Bai`:\n",
    "\n",
    "\n",
    ">观刈麦\n",
    "  白居易\n",
    "\n",
    "\n",
    "```\n",
    "田家少闲月，五月人倍忙。\n",
    "夜来南风起，小麦覆陇黄。\n",
    "妇姑荷箪食，童稚携壶浆，\n",
    "相随饷田去，丁壮在南冈。\n",
    "足蒸暑土气，背灼炎天光，\n",
    "力尽不知热，但惜夏日长。\n",
    "复有贫妇人，抱子在其旁，\n",
    "右手秉遗穗，左臂悬敝筐。\n",
    "听其相顾言，闻者为悲伤。\n",
    "家田输税尽，拾此充饥肠。\n",
    "今我何功德，曾不事农桑。\n",
    "吏禄三百石，岁晏有余粮。\n",
    "念此私自愧，尽日不能忘。\n",
    "```\n"
   ]
  },
  {
   "cell_type": "markdown",
   "metadata": {},
   "source": [
    "1. one aspect\n",
    "   - point 1\n",
    "   - point 2"
   ]
  },
  {
   "cell_type": "markdown",
   "metadata": {
    "collapsed": true
   },
   "source": [
    "# Markdown使用\n",
    "## 字体\n",
    "*斜体*\n",
    "\n",
    "**粗体**\n",
    "\n",
    "***粗斜体***\n",
    "\n",
    "~~删除线~~\n",
    "\n",
    "<u>下划线</u>\n",
    "\n",
    "**脚本有问题** 创建脚本[^footnote]\n",
    "\n",
    "[^footnote]：天天学习\n",
    "\n",
    "- 第一列表\n",
    "    - 第二级列表（前面加四个空格）\n",
    "\n",
    "## 区块\n",
    "\n",
    "> 区块引用\n",
    ">> 第二级\n",
    "\n",
    "代码或函数可用反引号'将其包起来： `printf`函数，而代码区块可通过前面加四个空格或一个tab键或者前后加三个反引号\n",
    "\n",
    "```   \n",
    "print(\"Hi, new world\")\n",
    "hihihi\n",
    "```  \n",
    "## 链接\n",
    "\n",
    "[链接](www.baidu.com)\n",
    "\n",
    "链接也可以用变量来代替，文档末尾附带变量地址：\n",
    "这个链接用 1 作为网址变量 [Google][1]\n",
    "这个链接用 runoob 作为网址变量 [Runoob][runoob]\n",
    "然后在文档的结尾为变量赋值（网址）\n",
    "\n",
    "[1]: http://www.google.com/\n",
    "[runoob]: http://www.runoob.com/\n",
    "\n",
    "## 表格\n",
    "\n",
    "| 左对齐 | 右对齐 | 居中对齐 |\n",
    "| :-----| ----: | :----: |\n",
    "| 单元格 | 单元格 | 单元格 |\n",
    "| 单元格 | 单元格 | 单元格 |\n",
    "\n",
    "## 公式\n",
    "$$\n",
    "\\mathbf{V}_1 \\times \\mathbf{V}_2 =  \\begin{vmatrix} \n",
    "\\mathbf{i} & \\mathbf{j} & \\mathbf{k} \\\\\n",
    "\\frac{\\partial X}{\\partial u} &  \\frac{\\partial Y}{\\partial u} & 0 \\\\\n",
    "\\frac{\\partial X}{\\partial v} &  \\frac{\\partial Y}{\\partial v} & 0 \\\\\n",
    "\\end{vmatrix}\n",
    "$$"
   ]
  },
  {
   "cell_type": "code",
   "execution_count": null,
   "metadata": {},
   "outputs": [],
   "source": []
  }
 ],
 "metadata": {
  "kernelspec": {
   "display_name": "Python 3",
   "language": "python",
   "name": "python3"
  },
  "language_info": {
   "codemirror_mode": {
    "name": "ipython",
    "version": 3
   },
   "file_extension": ".py",
   "mimetype": "text/x-python",
   "name": "python",
   "nbconvert_exporter": "python",
   "pygments_lexer": "ipython3",
   "version": "3.6.5"
  }
 },
 "nbformat": 4,
 "nbformat_minor": 2
}
