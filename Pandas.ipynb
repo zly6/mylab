{
 "cells": [
  {
   "cell_type": "markdown",
   "metadata": {},
   "source": [
    "# 初识Pandas\n",
    "Pandas是以NumPy为基础，在其之上提供更加易用的数据结构和数据分析工具，可帮助提高工作效率。\n",
    "\n",
    "首先，pandas重点提供两种数据结构：\n",
    "- **Series**\n",
    "序列， 一维数据，是对NumPy的一维数组的封装，可自定义索引（index）\n",
    "这点类似于Linux shell script中的关联数组\n",
    "- **DataFrame**\n",
    "数据框，二位数据，是对NumPy的二维数组的封装，可自定义索引（index）和列名（column）\n",
    "\n",
    "除此之外，还有\n",
    "\n",
    "- describe：快速计算数据的各种描述性统计值\n",
    "- unique：数据的独立值列表\n",
    "- value_count： 各个值的计数\n",
    "- hist：直接绘制直方图\n",
    "- plot：对matplotlib进行简单封装，执行简单的绘图功能\n",
    "\n",
    "小工具：\n",
    "- 便捷的I/O\n",
    "- 媲美SQL的功能\n",
    "- 媲美Excel的功能：透视表\n",
    "\n",
    "最后，Pandas的文档非常丰富，更新频繁，社区十分活跃。\n",
    "\n",
    "首先，导入需要的模块"
   ]
  },
  {
   "cell_type": "code",
   "execution_count": 1,
   "metadata": {},
   "outputs": [],
   "source": [
    "import pandas as pd\n",
    "import numpy as np\n",
    "import matplotlib.pyplot as plt\n",
    "%matplotlib inline"
   ]
  },
  {
   "cell_type": "markdown",
   "metadata": {},
   "source": [
    "# 创建对象（object creation）\n"
   ]
  },
  {
   "cell_type": "code",
   "execution_count": 2,
   "metadata": {},
   "outputs": [
    {
     "data": {
      "text/plain": [
       "0    1.0\n",
       "1    3.0\n",
       "2    4.0\n",
       "3    NaN\n",
       "4    6.0\n",
       "5    8.0\n",
       "dtype: float64"
      ]
     },
     "execution_count": 2,
     "metadata": {},
     "output_type": "execute_result"
    }
   ],
   "source": [
    "s = pd.Series([1,3,4,np.nan,6,8])\n",
    "s"
   ]
  },
  {
   "cell_type": "code",
   "execution_count": 3,
   "metadata": {},
   "outputs": [
    {
     "data": {
      "text/plain": [
       "DatetimeIndex(['2017-10-26', '2017-10-27', '2017-10-28', '2017-10-29',\n",
       "               '2017-10-30', '2017-10-31'],\n",
       "              dtype='datetime64[ns]', freq='D')"
      ]
     },
     "execution_count": 3,
     "metadata": {},
     "output_type": "execute_result"
    }
   ],
   "source": [
    "dates = pd.date_range('20171026', periods=6)\n",
    "dates"
   ]
  },
  {
   "cell_type": "code",
   "execution_count": 4,
   "metadata": {},
   "outputs": [
    {
     "data": {
      "text/html": [
       "<div>\n",
       "<style scoped>\n",
       "    .dataframe tbody tr th:only-of-type {\n",
       "        vertical-align: middle;\n",
       "    }\n",
       "\n",
       "    .dataframe tbody tr th {\n",
       "        vertical-align: top;\n",
       "    }\n",
       "\n",
       "    .dataframe thead th {\n",
       "        text-align: right;\n",
       "    }\n",
       "</style>\n",
       "<table border=\"1\" class=\"dataframe\">\n",
       "  <thead>\n",
       "    <tr style=\"text-align: right;\">\n",
       "      <th></th>\n",
       "      <th>A</th>\n",
       "      <th>B</th>\n",
       "      <th>C</th>\n",
       "      <th>D</th>\n",
       "    </tr>\n",
       "  </thead>\n",
       "  <tbody>\n",
       "    <tr>\n",
       "      <th>2017-10-26</th>\n",
       "      <td>-0.138409</td>\n",
       "      <td>1.075475</td>\n",
       "      <td>0.323822</td>\n",
       "      <td>-0.953003</td>\n",
       "    </tr>\n",
       "    <tr>\n",
       "      <th>2017-10-27</th>\n",
       "      <td>0.341625</td>\n",
       "      <td>0.758314</td>\n",
       "      <td>-1.161088</td>\n",
       "      <td>-1.591416</td>\n",
       "    </tr>\n",
       "    <tr>\n",
       "      <th>2017-10-28</th>\n",
       "      <td>1.114214</td>\n",
       "      <td>0.514653</td>\n",
       "      <td>0.449706</td>\n",
       "      <td>0.145602</td>\n",
       "    </tr>\n",
       "    <tr>\n",
       "      <th>2017-10-29</th>\n",
       "      <td>0.003882</td>\n",
       "      <td>-2.123940</td>\n",
       "      <td>-0.831496</td>\n",
       "      <td>0.077083</td>\n",
       "    </tr>\n",
       "    <tr>\n",
       "      <th>2017-10-30</th>\n",
       "      <td>0.386091</td>\n",
       "      <td>0.497921</td>\n",
       "      <td>-0.994811</td>\n",
       "      <td>1.003608</td>\n",
       "    </tr>\n",
       "    <tr>\n",
       "      <th>2017-10-31</th>\n",
       "      <td>-1.431878</td>\n",
       "      <td>2.378127</td>\n",
       "      <td>-0.602382</td>\n",
       "      <td>-0.752360</td>\n",
       "    </tr>\n",
       "  </tbody>\n",
       "</table>\n",
       "</div>"
      ],
      "text/plain": [
       "                   A         B         C         D\n",
       "2017-10-26 -0.138409  1.075475  0.323822 -0.953003\n",
       "2017-10-27  0.341625  0.758314 -1.161088 -1.591416\n",
       "2017-10-28  1.114214  0.514653  0.449706  0.145602\n",
       "2017-10-29  0.003882 -2.123940 -0.831496  0.077083\n",
       "2017-10-30  0.386091  0.497921 -0.994811  1.003608\n",
       "2017-10-31 -1.431878  2.378127 -0.602382 -0.752360"
      ]
     },
     "execution_count": 4,
     "metadata": {},
     "output_type": "execute_result"
    }
   ],
   "source": [
    "df = pd.DataFrame(np.random.randn(6,4), index=dates, columns=tuple('ABCD'))#此处tuple('ABCD)is short for ('A','B','C','D')\n",
    "df"
   ]
  },
  {
   "cell_type": "markdown",
   "metadata": {},
   "source": [
    "可使用一个字典dict 来创建一个DataFrame对象，而且它会自动应用NumPy的广播（自动复制）"
   ]
  },
  {
   "cell_type": "code",
   "execution_count": 5,
   "metadata": {},
   "outputs": [
    {
     "data": {
      "text/html": [
       "<div>\n",
       "<style scoped>\n",
       "    .dataframe tbody tr th:only-of-type {\n",
       "        vertical-align: middle;\n",
       "    }\n",
       "\n",
       "    .dataframe tbody tr th {\n",
       "        vertical-align: top;\n",
       "    }\n",
       "\n",
       "    .dataframe thead th {\n",
       "        text-align: right;\n",
       "    }\n",
       "</style>\n",
       "<table border=\"1\" class=\"dataframe\">\n",
       "  <thead>\n",
       "    <tr style=\"text-align: right;\">\n",
       "      <th></th>\n",
       "      <th>A</th>\n",
       "      <th>B</th>\n",
       "      <th>C</th>\n",
       "      <th>D</th>\n",
       "      <th>E</th>\n",
       "      <th>F</th>\n",
       "    </tr>\n",
       "  </thead>\n",
       "  <tbody>\n",
       "    <tr>\n",
       "      <th>0</th>\n",
       "      <td>1.0</td>\n",
       "      <td>2017-10-26</td>\n",
       "      <td>1.0</td>\n",
       "      <td>3</td>\n",
       "      <td>test</td>\n",
       "      <td>foo</td>\n",
       "    </tr>\n",
       "    <tr>\n",
       "      <th>1</th>\n",
       "      <td>1.0</td>\n",
       "      <td>2017-10-26</td>\n",
       "      <td>1.0</td>\n",
       "      <td>3</td>\n",
       "      <td>train</td>\n",
       "      <td>foo</td>\n",
       "    </tr>\n",
       "    <tr>\n",
       "      <th>2</th>\n",
       "      <td>1.0</td>\n",
       "      <td>2017-10-26</td>\n",
       "      <td>1.0</td>\n",
       "      <td>3</td>\n",
       "      <td>test</td>\n",
       "      <td>foo</td>\n",
       "    </tr>\n",
       "    <tr>\n",
       "      <th>3</th>\n",
       "      <td>1.0</td>\n",
       "      <td>2017-10-26</td>\n",
       "      <td>1.0</td>\n",
       "      <td>3</td>\n",
       "      <td>train</td>\n",
       "      <td>foo</td>\n",
       "    </tr>\n",
       "  </tbody>\n",
       "</table>\n",
       "</div>"
      ],
      "text/plain": [
       "     A          B    C  D      E    F\n",
       "0  1.0 2017-10-26  1.0  3   test  foo\n",
       "1  1.0 2017-10-26  1.0  3  train  foo\n",
       "2  1.0 2017-10-26  1.0  3   test  foo\n",
       "3  1.0 2017-10-26  1.0  3  train  foo"
      ]
     },
     "execution_count": 5,
     "metadata": {},
     "output_type": "execute_result"
    }
   ],
   "source": [
    "df2 = pd.DataFrame({'A' : 1.,\n",
    "                    'B' : pd.Timestamp('20171026'),\n",
    "                    'C' : pd.Series(1,index=list(range(4)),dtype='float32'),\n",
    "                    'D' : np.array([3]*4, dtype='int32'),\n",
    "                    'E' : pd.Categorical([\"test\",\"train\",\"test\",\"train\"]), #类别数据\n",
    "                    'F' : 'foo'})\n",
    "df2"
   ]
  },
  {
   "cell_type": "code",
   "execution_count": 6,
   "metadata": {},
   "outputs": [
    {
     "data": {
      "text/plain": [
       "A           float64\n",
       "B    datetime64[ns]\n",
       "C           float32\n",
       "D             int32\n",
       "E          category\n",
       "F            object\n",
       "dtype: object"
      ]
     },
     "execution_count": 6,
     "metadata": {},
     "output_type": "execute_result"
    }
   ],
   "source": [
    "df2.dtypes"
   ]
  },
  {
   "cell_type": "code",
   "execution_count": 7,
   "metadata": {},
   "outputs": [
    {
     "data": {
      "text/plain": [
       "0    1.0\n",
       "1    1.0\n",
       "2    1.0\n",
       "3    1.0\n",
       "Name: C, dtype: float32"
      ]
     },
     "execution_count": 7,
     "metadata": {},
     "output_type": "execute_result"
    }
   ],
   "source": [
    "df2.C #等价于 df2['C']"
   ]
  },
  {
   "cell_type": "markdown",
   "metadata": {},
   "source": [
    "## 查看数据（viewing data）"
   ]
  },
  {
   "cell_type": "code",
   "execution_count": 8,
   "metadata": {},
   "outputs": [
    {
     "data": {
      "text/html": [
       "<div>\n",
       "<style scoped>\n",
       "    .dataframe tbody tr th:only-of-type {\n",
       "        vertical-align: middle;\n",
       "    }\n",
       "\n",
       "    .dataframe tbody tr th {\n",
       "        vertical-align: top;\n",
       "    }\n",
       "\n",
       "    .dataframe thead th {\n",
       "        text-align: right;\n",
       "    }\n",
       "</style>\n",
       "<table border=\"1\" class=\"dataframe\">\n",
       "  <thead>\n",
       "    <tr style=\"text-align: right;\">\n",
       "      <th></th>\n",
       "      <th>A</th>\n",
       "      <th>B</th>\n",
       "      <th>C</th>\n",
       "      <th>D</th>\n",
       "    </tr>\n",
       "  </thead>\n",
       "  <tbody>\n",
       "    <tr>\n",
       "      <th>2017-10-26</th>\n",
       "      <td>-0.138409</td>\n",
       "      <td>1.075475</td>\n",
       "      <td>0.323822</td>\n",
       "      <td>-0.953003</td>\n",
       "    </tr>\n",
       "    <tr>\n",
       "      <th>2017-10-27</th>\n",
       "      <td>0.341625</td>\n",
       "      <td>0.758314</td>\n",
       "      <td>-1.161088</td>\n",
       "      <td>-1.591416</td>\n",
       "    </tr>\n",
       "    <tr>\n",
       "      <th>2017-10-28</th>\n",
       "      <td>1.114214</td>\n",
       "      <td>0.514653</td>\n",
       "      <td>0.449706</td>\n",
       "      <td>0.145602</td>\n",
       "    </tr>\n",
       "    <tr>\n",
       "      <th>2017-10-29</th>\n",
       "      <td>0.003882</td>\n",
       "      <td>-2.123940</td>\n",
       "      <td>-0.831496</td>\n",
       "      <td>0.077083</td>\n",
       "    </tr>\n",
       "    <tr>\n",
       "      <th>2017-10-30</th>\n",
       "      <td>0.386091</td>\n",
       "      <td>0.497921</td>\n",
       "      <td>-0.994811</td>\n",
       "      <td>1.003608</td>\n",
       "    </tr>\n",
       "  </tbody>\n",
       "</table>\n",
       "</div>"
      ],
      "text/plain": [
       "                   A         B         C         D\n",
       "2017-10-26 -0.138409  1.075475  0.323822 -0.953003\n",
       "2017-10-27  0.341625  0.758314 -1.161088 -1.591416\n",
       "2017-10-28  1.114214  0.514653  0.449706  0.145602\n",
       "2017-10-29  0.003882 -2.123940 -0.831496  0.077083\n",
       "2017-10-30  0.386091  0.497921 -0.994811  1.003608"
      ]
     },
     "execution_count": 8,
     "metadata": {},
     "output_type": "execute_result"
    }
   ],
   "source": [
    "df.head()  #默认给出五行"
   ]
  },
  {
   "cell_type": "code",
   "execution_count": 9,
   "metadata": {},
   "outputs": [
    {
     "data": {
      "text/html": [
       "<div>\n",
       "<style scoped>\n",
       "    .dataframe tbody tr th:only-of-type {\n",
       "        vertical-align: middle;\n",
       "    }\n",
       "\n",
       "    .dataframe tbody tr th {\n",
       "        vertical-align: top;\n",
       "    }\n",
       "\n",
       "    .dataframe thead th {\n",
       "        text-align: right;\n",
       "    }\n",
       "</style>\n",
       "<table border=\"1\" class=\"dataframe\">\n",
       "  <thead>\n",
       "    <tr style=\"text-align: right;\">\n",
       "      <th></th>\n",
       "      <th>A</th>\n",
       "      <th>B</th>\n",
       "      <th>C</th>\n",
       "      <th>D</th>\n",
       "    </tr>\n",
       "  </thead>\n",
       "  <tbody>\n",
       "    <tr>\n",
       "      <th>2017-10-27</th>\n",
       "      <td>0.341625</td>\n",
       "      <td>0.758314</td>\n",
       "      <td>-1.161088</td>\n",
       "      <td>-1.591416</td>\n",
       "    </tr>\n",
       "    <tr>\n",
       "      <th>2017-10-28</th>\n",
       "      <td>1.114214</td>\n",
       "      <td>0.514653</td>\n",
       "      <td>0.449706</td>\n",
       "      <td>0.145602</td>\n",
       "    </tr>\n",
       "    <tr>\n",
       "      <th>2017-10-29</th>\n",
       "      <td>0.003882</td>\n",
       "      <td>-2.123940</td>\n",
       "      <td>-0.831496</td>\n",
       "      <td>0.077083</td>\n",
       "    </tr>\n",
       "    <tr>\n",
       "      <th>2017-10-30</th>\n",
       "      <td>0.386091</td>\n",
       "      <td>0.497921</td>\n",
       "      <td>-0.994811</td>\n",
       "      <td>1.003608</td>\n",
       "    </tr>\n",
       "    <tr>\n",
       "      <th>2017-10-31</th>\n",
       "      <td>-1.431878</td>\n",
       "      <td>2.378127</td>\n",
       "      <td>-0.602382</td>\n",
       "      <td>-0.752360</td>\n",
       "    </tr>\n",
       "  </tbody>\n",
       "</table>\n",
       "</div>"
      ],
      "text/plain": [
       "                   A         B         C         D\n",
       "2017-10-27  0.341625  0.758314 -1.161088 -1.591416\n",
       "2017-10-28  1.114214  0.514653  0.449706  0.145602\n",
       "2017-10-29  0.003882 -2.123940 -0.831496  0.077083\n",
       "2017-10-30  0.386091  0.497921 -0.994811  1.003608\n",
       "2017-10-31 -1.431878  2.378127 -0.602382 -0.752360"
      ]
     },
     "execution_count": 9,
     "metadata": {},
     "output_type": "execute_result"
    }
   ],
   "source": [
    "df.tail() # 默认后面五行"
   ]
  },
  {
   "cell_type": "code",
   "execution_count": 10,
   "metadata": {},
   "outputs": [
    {
     "data": {
      "text/plain": [
       "DatetimeIndex(['2017-10-26', '2017-10-27', '2017-10-28', '2017-10-29',\n",
       "               '2017-10-30', '2017-10-31'],\n",
       "              dtype='datetime64[ns]', freq='D')"
      ]
     },
     "execution_count": 10,
     "metadata": {},
     "output_type": "execute_result"
    }
   ],
   "source": [
    "df.index"
   ]
  },
  {
   "cell_type": "code",
   "execution_count": 11,
   "metadata": {},
   "outputs": [
    {
     "data": {
      "text/plain": [
       "Index(['A', 'B', 'C', 'D'], dtype='object')"
      ]
     },
     "execution_count": 11,
     "metadata": {},
     "output_type": "execute_result"
    }
   ],
   "source": [
    "df.columns"
   ]
  },
  {
   "cell_type": "code",
   "execution_count": 12,
   "metadata": {},
   "outputs": [
    {
     "data": {
      "text/plain": [
       "array([[-0.13840912,  1.07547457,  0.3238223 , -0.95300329],\n",
       "       [ 0.34162452,  0.75831372, -1.16108755, -1.59141577],\n",
       "       [ 1.11421423,  0.51465265,  0.44970565,  0.1456018 ],\n",
       "       [ 0.00388167, -2.12393991, -0.83149599,  0.07708345],\n",
       "       [ 0.38609127,  0.49792113, -0.99481053,  1.003608  ],\n",
       "       [-1.43187766,  2.37812713, -0.60238167, -0.75236001]])"
      ]
     },
     "execution_count": 12,
     "metadata": {},
     "output_type": "execute_result"
    }
   ],
   "source": [
    "df.values"
   ]
  },
  {
   "cell_type": "code",
   "execution_count": 13,
   "metadata": {},
   "outputs": [
    {
     "data": {
      "text/html": [
       "<div>\n",
       "<style scoped>\n",
       "    .dataframe tbody tr th:only-of-type {\n",
       "        vertical-align: middle;\n",
       "    }\n",
       "\n",
       "    .dataframe tbody tr th {\n",
       "        vertical-align: top;\n",
       "    }\n",
       "\n",
       "    .dataframe thead th {\n",
       "        text-align: right;\n",
       "    }\n",
       "</style>\n",
       "<table border=\"1\" class=\"dataframe\">\n",
       "  <thead>\n",
       "    <tr style=\"text-align: right;\">\n",
       "      <th></th>\n",
       "      <th>A</th>\n",
       "      <th>B</th>\n",
       "      <th>C</th>\n",
       "      <th>D</th>\n",
       "    </tr>\n",
       "  </thead>\n",
       "  <tbody>\n",
       "    <tr>\n",
       "      <th>count</th>\n",
       "      <td>6.000000</td>\n",
       "      <td>6.000000</td>\n",
       "      <td>6.000000</td>\n",
       "      <td>6.000000</td>\n",
       "    </tr>\n",
       "    <tr>\n",
       "      <th>mean</th>\n",
       "      <td>0.045921</td>\n",
       "      <td>0.516758</td>\n",
       "      <td>-0.469375</td>\n",
       "      <td>-0.345081</td>\n",
       "    </tr>\n",
       "    <tr>\n",
       "      <th>std</th>\n",
       "      <td>0.844280</td>\n",
       "      <td>1.470296</td>\n",
       "      <td>0.689528</td>\n",
       "      <td>0.930242</td>\n",
       "    </tr>\n",
       "    <tr>\n",
       "      <th>min</th>\n",
       "      <td>-1.431878</td>\n",
       "      <td>-2.123940</td>\n",
       "      <td>-1.161088</td>\n",
       "      <td>-1.591416</td>\n",
       "    </tr>\n",
       "    <tr>\n",
       "      <th>25%</th>\n",
       "      <td>-0.102836</td>\n",
       "      <td>0.502104</td>\n",
       "      <td>-0.953982</td>\n",
       "      <td>-0.902842</td>\n",
       "    </tr>\n",
       "    <tr>\n",
       "      <th>50%</th>\n",
       "      <td>0.172753</td>\n",
       "      <td>0.636483</td>\n",
       "      <td>-0.716939</td>\n",
       "      <td>-0.337638</td>\n",
       "    </tr>\n",
       "    <tr>\n",
       "      <th>75%</th>\n",
       "      <td>0.374975</td>\n",
       "      <td>0.996184</td>\n",
       "      <td>0.092271</td>\n",
       "      <td>0.128472</td>\n",
       "    </tr>\n",
       "    <tr>\n",
       "      <th>max</th>\n",
       "      <td>1.114214</td>\n",
       "      <td>2.378127</td>\n",
       "      <td>0.449706</td>\n",
       "      <td>1.003608</td>\n",
       "    </tr>\n",
       "  </tbody>\n",
       "</table>\n",
       "</div>"
      ],
      "text/plain": [
       "              A         B         C         D\n",
       "count  6.000000  6.000000  6.000000  6.000000\n",
       "mean   0.045921  0.516758 -0.469375 -0.345081\n",
       "std    0.844280  1.470296  0.689528  0.930242\n",
       "min   -1.431878 -2.123940 -1.161088 -1.591416\n",
       "25%   -0.102836  0.502104 -0.953982 -0.902842\n",
       "50%    0.172753  0.636483 -0.716939 -0.337638\n",
       "75%    0.374975  0.996184  0.092271  0.128472\n",
       "max    1.114214  2.378127  0.449706  1.003608"
      ]
     },
     "execution_count": 13,
     "metadata": {},
     "output_type": "execute_result"
    }
   ],
   "source": [
    "df.describe()  # 给出数据的统计特性"
   ]
  },
  {
   "cell_type": "code",
   "execution_count": 14,
   "metadata": {},
   "outputs": [
    {
     "data": {
      "text/html": [
       "<div>\n",
       "<style scoped>\n",
       "    .dataframe tbody tr th:only-of-type {\n",
       "        vertical-align: middle;\n",
       "    }\n",
       "\n",
       "    .dataframe tbody tr th {\n",
       "        vertical-align: top;\n",
       "    }\n",
       "\n",
       "    .dataframe thead th {\n",
       "        text-align: right;\n",
       "    }\n",
       "</style>\n",
       "<table border=\"1\" class=\"dataframe\">\n",
       "  <thead>\n",
       "    <tr style=\"text-align: right;\">\n",
       "      <th></th>\n",
       "      <th>2017-10-26 00:00:00</th>\n",
       "      <th>2017-10-27 00:00:00</th>\n",
       "      <th>2017-10-28 00:00:00</th>\n",
       "      <th>2017-10-29 00:00:00</th>\n",
       "      <th>2017-10-30 00:00:00</th>\n",
       "      <th>2017-10-31 00:00:00</th>\n",
       "    </tr>\n",
       "  </thead>\n",
       "  <tbody>\n",
       "    <tr>\n",
       "      <th>A</th>\n",
       "      <td>-0.138409</td>\n",
       "      <td>0.341625</td>\n",
       "      <td>1.114214</td>\n",
       "      <td>0.003882</td>\n",
       "      <td>0.386091</td>\n",
       "      <td>-1.431878</td>\n",
       "    </tr>\n",
       "    <tr>\n",
       "      <th>B</th>\n",
       "      <td>1.075475</td>\n",
       "      <td>0.758314</td>\n",
       "      <td>0.514653</td>\n",
       "      <td>-2.123940</td>\n",
       "      <td>0.497921</td>\n",
       "      <td>2.378127</td>\n",
       "    </tr>\n",
       "    <tr>\n",
       "      <th>C</th>\n",
       "      <td>0.323822</td>\n",
       "      <td>-1.161088</td>\n",
       "      <td>0.449706</td>\n",
       "      <td>-0.831496</td>\n",
       "      <td>-0.994811</td>\n",
       "      <td>-0.602382</td>\n",
       "    </tr>\n",
       "    <tr>\n",
       "      <th>D</th>\n",
       "      <td>-0.953003</td>\n",
       "      <td>-1.591416</td>\n",
       "      <td>0.145602</td>\n",
       "      <td>0.077083</td>\n",
       "      <td>1.003608</td>\n",
       "      <td>-0.752360</td>\n",
       "    </tr>\n",
       "  </tbody>\n",
       "</table>\n",
       "</div>"
      ],
      "text/plain": [
       "   2017-10-26  2017-10-27  2017-10-28  2017-10-29  2017-10-30  2017-10-31\n",
       "A   -0.138409    0.341625    1.114214    0.003882    0.386091   -1.431878\n",
       "B    1.075475    0.758314    0.514653   -2.123940    0.497921    2.378127\n",
       "C    0.323822   -1.161088    0.449706   -0.831496   -0.994811   -0.602382\n",
       "D   -0.953003   -1.591416    0.145602    0.077083    1.003608   -0.752360"
      ]
     },
     "execution_count": 14,
     "metadata": {},
     "output_type": "execute_result"
    }
   ],
   "source": [
    "df.T #转置"
   ]
  },
  {
   "cell_type": "code",
   "execution_count": 19,
   "metadata": {},
   "outputs": [
    {
     "data": {
      "text/html": [
       "<div>\n",
       "<style>\n",
       "    .dataframe thead tr:only-child th {\n",
       "        text-align: right;\n",
       "    }\n",
       "\n",
       "    .dataframe thead th {\n",
       "        text-align: left;\n",
       "    }\n",
       "\n",
       "    .dataframe tbody tr th {\n",
       "        vertical-align: top;\n",
       "    }\n",
       "</style>\n",
       "<table border=\"1\" class=\"dataframe\">\n",
       "  <thead>\n",
       "    <tr style=\"text-align: right;\">\n",
       "      <th></th>\n",
       "      <th>D</th>\n",
       "      <th>C</th>\n",
       "      <th>B</th>\n",
       "      <th>A</th>\n",
       "    </tr>\n",
       "  </thead>\n",
       "  <tbody>\n",
       "    <tr>\n",
       "      <th>2017-10-26</th>\n",
       "      <td>1.825721</td>\n",
       "      <td>-0.561792</td>\n",
       "      <td>1.602367</td>\n",
       "      <td>-1.331770</td>\n",
       "    </tr>\n",
       "    <tr>\n",
       "      <th>2017-10-27</th>\n",
       "      <td>0.671658</td>\n",
       "      <td>0.432401</td>\n",
       "      <td>-0.765978</td>\n",
       "      <td>0.251834</td>\n",
       "    </tr>\n",
       "    <tr>\n",
       "      <th>2017-10-28</th>\n",
       "      <td>-1.406542</td>\n",
       "      <td>0.012585</td>\n",
       "      <td>-0.909648</td>\n",
       "      <td>-1.150419</td>\n",
       "    </tr>\n",
       "    <tr>\n",
       "      <th>2017-10-29</th>\n",
       "      <td>0.872013</td>\n",
       "      <td>-0.756374</td>\n",
       "      <td>1.517355</td>\n",
       "      <td>1.607818</td>\n",
       "    </tr>\n",
       "    <tr>\n",
       "      <th>2017-10-30</th>\n",
       "      <td>1.379843</td>\n",
       "      <td>1.136394</td>\n",
       "      <td>0.133495</td>\n",
       "      <td>1.340570</td>\n",
       "    </tr>\n",
       "    <tr>\n",
       "      <th>2017-10-31</th>\n",
       "      <td>0.263155</td>\n",
       "      <td>-0.768821</td>\n",
       "      <td>0.844860</td>\n",
       "      <td>-0.205709</td>\n",
       "    </tr>\n",
       "  </tbody>\n",
       "</table>\n",
       "</div>"
      ],
      "text/plain": [
       "                   D         C         B         A\n",
       "2017-10-26  1.825721 -0.561792  1.602367 -1.331770\n",
       "2017-10-27  0.671658  0.432401 -0.765978  0.251834\n",
       "2017-10-28 -1.406542  0.012585 -0.909648 -1.150419\n",
       "2017-10-29  0.872013 -0.756374  1.517355  1.607818\n",
       "2017-10-30  1.379843  1.136394  0.133495  1.340570\n",
       "2017-10-31  0.263155 -0.768821  0.844860 -0.205709"
      ]
     },
     "execution_count": 19,
     "metadata": {},
     "output_type": "execute_result"
    }
   ],
   "source": [
    "df.sort_index(axis=1, ascending=False) #按照列名（axis=1）或行名进行排序"
   ]
  },
  {
   "cell_type": "code",
   "execution_count": 20,
   "metadata": {},
   "outputs": [
    {
     "data": {
      "text/html": [
       "<div>\n",
       "<style>\n",
       "    .dataframe thead tr:only-child th {\n",
       "        text-align: right;\n",
       "    }\n",
       "\n",
       "    .dataframe thead th {\n",
       "        text-align: left;\n",
       "    }\n",
       "\n",
       "    .dataframe tbody tr th {\n",
       "        vertical-align: top;\n",
       "    }\n",
       "</style>\n",
       "<table border=\"1\" class=\"dataframe\">\n",
       "  <thead>\n",
       "    <tr style=\"text-align: right;\">\n",
       "      <th></th>\n",
       "      <th>A</th>\n",
       "      <th>B</th>\n",
       "      <th>C</th>\n",
       "      <th>D</th>\n",
       "    </tr>\n",
       "  </thead>\n",
       "  <tbody>\n",
       "    <tr>\n",
       "      <th>2017-10-28</th>\n",
       "      <td>-1.150419</td>\n",
       "      <td>-0.909648</td>\n",
       "      <td>0.012585</td>\n",
       "      <td>-1.406542</td>\n",
       "    </tr>\n",
       "    <tr>\n",
       "      <th>2017-10-27</th>\n",
       "      <td>0.251834</td>\n",
       "      <td>-0.765978</td>\n",
       "      <td>0.432401</td>\n",
       "      <td>0.671658</td>\n",
       "    </tr>\n",
       "    <tr>\n",
       "      <th>2017-10-30</th>\n",
       "      <td>1.340570</td>\n",
       "      <td>0.133495</td>\n",
       "      <td>1.136394</td>\n",
       "      <td>1.379843</td>\n",
       "    </tr>\n",
       "    <tr>\n",
       "      <th>2017-10-31</th>\n",
       "      <td>-0.205709</td>\n",
       "      <td>0.844860</td>\n",
       "      <td>-0.768821</td>\n",
       "      <td>0.263155</td>\n",
       "    </tr>\n",
       "    <tr>\n",
       "      <th>2017-10-29</th>\n",
       "      <td>1.607818</td>\n",
       "      <td>1.517355</td>\n",
       "      <td>-0.756374</td>\n",
       "      <td>0.872013</td>\n",
       "    </tr>\n",
       "    <tr>\n",
       "      <th>2017-10-26</th>\n",
       "      <td>-1.331770</td>\n",
       "      <td>1.602367</td>\n",
       "      <td>-0.561792</td>\n",
       "      <td>1.825721</td>\n",
       "    </tr>\n",
       "  </tbody>\n",
       "</table>\n",
       "</div>"
      ],
      "text/plain": [
       "                   A         B         C         D\n",
       "2017-10-28 -1.150419 -0.909648  0.012585 -1.406542\n",
       "2017-10-27  0.251834 -0.765978  0.432401  0.671658\n",
       "2017-10-30  1.340570  0.133495  1.136394  1.379843\n",
       "2017-10-31 -0.205709  0.844860 -0.768821  0.263155\n",
       "2017-10-29  1.607818  1.517355 -0.756374  0.872013\n",
       "2017-10-26 -1.331770  1.602367 -0.561792  1.825721"
      ]
     },
     "execution_count": 20,
     "metadata": {},
     "output_type": "execute_result"
    }
   ],
   "source": [
    "df.sort_values(by='B') #按照B列的数据排序"
   ]
  },
  {
   "cell_type": "markdown",
   "metadata": {},
   "source": [
    "## 选择数据"
   ]
  },
  {
   "cell_type": "code",
   "execution_count": null,
   "metadata": {
    "collapsed": true
   },
   "outputs": [],
   "source": []
  }
 ],
 "metadata": {
  "kernelspec": {
   "display_name": "Python 3",
   "language": "python",
   "name": "python3"
  },
  "language_info": {
   "codemirror_mode": {
    "name": "ipython",
    "version": 3
   },
   "file_extension": ".py",
   "mimetype": "text/x-python",
   "name": "python",
   "nbconvert_exporter": "python",
   "pygments_lexer": "ipython3",
   "version": "3.6.5"
  }
 },
 "nbformat": 4,
 "nbformat_minor": 2
}
